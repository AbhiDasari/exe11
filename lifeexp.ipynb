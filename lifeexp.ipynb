{
 "cells": [
  {
   "cell_type": "code",
   "execution_count": 13,
   "metadata": {},
   "outputs": [],
   "source": [
    "import pandas as pd\n",
    "import numpy as np\n",
    "import matplotlib.pyplot as plt"
   ]
  },
  {
   "cell_type": "code",
   "execution_count": 2,
   "metadata": {},
   "outputs": [
    {
     "name": "stdout",
     "output_type": "stream",
     "text": [
      "   population  fertility  HIV        CO2  BMI_male      GDP  BMI_female  life  \\\n",
      "0  34811059.0       2.73  0.1   3.328945  24.59620  12314.0    129.9049  75.3   \n",
      "1  19842251.0       6.43  2.0   1.474353  22.25083   7103.0    130.1247  58.3   \n",
      "2  40381860.0       2.24  0.5   4.785170  27.50170  14646.0    118.8915  75.5   \n",
      "3   2975029.0       1.40  0.1   1.804106  25.35542   7383.0    132.8108  72.5   \n",
      "4  21370348.0       1.96  0.1  18.016313  27.56373  41312.0    117.3755  81.5   \n",
      "\n",
      "   child_mortality                      Region  \n",
      "0             29.5  Middle East & North Africa  \n",
      "1            192.0          Sub-Saharan Africa  \n",
      "2             15.4                     America  \n",
      "3             20.0       Europe & Central Asia  \n",
      "4              5.2         East Asia & Pacific  \n"
     ]
    }
   ],
   "source": [
    "data=pd.read_csv(\"gm_2008_region.csv\")\n",
    "print(data.head())"
   ]
  },
  {
   "cell_type": "code",
   "execution_count": 10,
   "metadata": {},
   "outputs": [
    {
     "name": "stdout",
     "output_type": "stream",
     "text": [
      "<class 'pandas.core.frame.DataFrame'>\n",
      "RangeIndex: 139 entries, 0 to 138\n",
      "Data columns (total 10 columns):\n",
      "population         139 non-null float64\n",
      "fertility          139 non-null float64\n",
      "HIV                139 non-null float64\n",
      "CO2                139 non-null float64\n",
      "BMI_male           139 non-null float64\n",
      "GDP                139 non-null float64\n",
      "BMI_female         139 non-null float64\n",
      "life               139 non-null float64\n",
      "child_mortality    139 non-null float64\n",
      "Region             139 non-null object\n",
      "dtypes: float64(9), object(1)\n",
      "memory usage: 11.0+ KB\n"
     ]
    },
    {
     "data": {
      "text/html": [
       "<div>\n",
       "<style scoped>\n",
       "    .dataframe tbody tr th:only-of-type {\n",
       "        vertical-align: middle;\n",
       "    }\n",
       "\n",
       "    .dataframe tbody tr th {\n",
       "        vertical-align: top;\n",
       "    }\n",
       "\n",
       "    .dataframe thead th {\n",
       "        text-align: right;\n",
       "    }\n",
       "</style>\n",
       "<table border=\"1\" class=\"dataframe\">\n",
       "  <thead>\n",
       "    <tr style=\"text-align: right;\">\n",
       "      <th></th>\n",
       "      <th>population</th>\n",
       "      <th>fertility</th>\n",
       "      <th>HIV</th>\n",
       "      <th>CO2</th>\n",
       "      <th>BMI_male</th>\n",
       "      <th>GDP</th>\n",
       "      <th>BMI_female</th>\n",
       "      <th>life</th>\n",
       "      <th>child_mortality</th>\n",
       "    </tr>\n",
       "  </thead>\n",
       "  <tbody>\n",
       "    <tr>\n",
       "      <th>count</th>\n",
       "      <td>1.390000e+02</td>\n",
       "      <td>139.000000</td>\n",
       "      <td>139.000000</td>\n",
       "      <td>139.000000</td>\n",
       "      <td>139.000000</td>\n",
       "      <td>139.000000</td>\n",
       "      <td>139.000000</td>\n",
       "      <td>139.000000</td>\n",
       "      <td>139.000000</td>\n",
       "    </tr>\n",
       "    <tr>\n",
       "      <th>mean</th>\n",
       "      <td>3.549977e+07</td>\n",
       "      <td>3.005108</td>\n",
       "      <td>1.915612</td>\n",
       "      <td>4.459874</td>\n",
       "      <td>24.623054</td>\n",
       "      <td>16638.784173</td>\n",
       "      <td>126.701914</td>\n",
       "      <td>69.602878</td>\n",
       "      <td>45.097122</td>\n",
       "    </tr>\n",
       "    <tr>\n",
       "      <th>std</th>\n",
       "      <td>1.095121e+08</td>\n",
       "      <td>1.615354</td>\n",
       "      <td>4.408974</td>\n",
       "      <td>6.268349</td>\n",
       "      <td>2.209368</td>\n",
       "      <td>19207.299083</td>\n",
       "      <td>4.471997</td>\n",
       "      <td>9.122189</td>\n",
       "      <td>45.724667</td>\n",
       "    </tr>\n",
       "    <tr>\n",
       "      <th>min</th>\n",
       "      <td>2.773150e+05</td>\n",
       "      <td>1.280000</td>\n",
       "      <td>0.060000</td>\n",
       "      <td>0.008618</td>\n",
       "      <td>20.397420</td>\n",
       "      <td>588.000000</td>\n",
       "      <td>117.375500</td>\n",
       "      <td>45.200000</td>\n",
       "      <td>2.700000</td>\n",
       "    </tr>\n",
       "    <tr>\n",
       "      <th>25%</th>\n",
       "      <td>3.752776e+06</td>\n",
       "      <td>1.810000</td>\n",
       "      <td>0.100000</td>\n",
       "      <td>0.496190</td>\n",
       "      <td>22.448135</td>\n",
       "      <td>2899.000000</td>\n",
       "      <td>123.232200</td>\n",
       "      <td>62.200000</td>\n",
       "      <td>8.100000</td>\n",
       "    </tr>\n",
       "    <tr>\n",
       "      <th>50%</th>\n",
       "      <td>9.705130e+06</td>\n",
       "      <td>2.410000</td>\n",
       "      <td>0.400000</td>\n",
       "      <td>2.223796</td>\n",
       "      <td>25.156990</td>\n",
       "      <td>9938.000000</td>\n",
       "      <td>126.519600</td>\n",
       "      <td>72.000000</td>\n",
       "      <td>24.000000</td>\n",
       "    </tr>\n",
       "    <tr>\n",
       "      <th>75%</th>\n",
       "      <td>2.791973e+07</td>\n",
       "      <td>4.095000</td>\n",
       "      <td>1.300000</td>\n",
       "      <td>6.589156</td>\n",
       "      <td>26.497575</td>\n",
       "      <td>23278.500000</td>\n",
       "      <td>130.275900</td>\n",
       "      <td>76.850000</td>\n",
       "      <td>74.200000</td>\n",
       "    </tr>\n",
       "    <tr>\n",
       "      <th>max</th>\n",
       "      <td>1.197070e+09</td>\n",
       "      <td>7.590000</td>\n",
       "      <td>25.900000</td>\n",
       "      <td>48.702062</td>\n",
       "      <td>28.456980</td>\n",
       "      <td>126076.000000</td>\n",
       "      <td>135.492000</td>\n",
       "      <td>82.600000</td>\n",
       "      <td>192.000000</td>\n",
       "    </tr>\n",
       "  </tbody>\n",
       "</table>\n",
       "</div>"
      ],
      "text/plain": [
       "         population   fertility         HIV         CO2    BMI_male  \\\n",
       "count  1.390000e+02  139.000000  139.000000  139.000000  139.000000   \n",
       "mean   3.549977e+07    3.005108    1.915612    4.459874   24.623054   \n",
       "std    1.095121e+08    1.615354    4.408974    6.268349    2.209368   \n",
       "min    2.773150e+05    1.280000    0.060000    0.008618   20.397420   \n",
       "25%    3.752776e+06    1.810000    0.100000    0.496190   22.448135   \n",
       "50%    9.705130e+06    2.410000    0.400000    2.223796   25.156990   \n",
       "75%    2.791973e+07    4.095000    1.300000    6.589156   26.497575   \n",
       "max    1.197070e+09    7.590000   25.900000   48.702062   28.456980   \n",
       "\n",
       "                 GDP  BMI_female        life  child_mortality  \n",
       "count     139.000000  139.000000  139.000000       139.000000  \n",
       "mean    16638.784173  126.701914   69.602878        45.097122  \n",
       "std     19207.299083    4.471997    9.122189        45.724667  \n",
       "min       588.000000  117.375500   45.200000         2.700000  \n",
       "25%      2899.000000  123.232200   62.200000         8.100000  \n",
       "50%      9938.000000  126.519600   72.000000        24.000000  \n",
       "75%     23278.500000  130.275900   76.850000        74.200000  \n",
       "max    126076.000000  135.492000   82.600000       192.000000  "
      ]
     },
     "execution_count": 10,
     "metadata": {},
     "output_type": "execute_result"
    }
   ],
   "source": [
    "data.info()\n",
    "data.describe()"
   ]
  },
  {
   "cell_type": "code",
   "execution_count": 3,
   "metadata": {},
   "outputs": [
    {
     "data": {
      "text/html": [
       "<div>\n",
       "<style scoped>\n",
       "    .dataframe tbody tr th:only-of-type {\n",
       "        vertical-align: middle;\n",
       "    }\n",
       "\n",
       "    .dataframe tbody tr th {\n",
       "        vertical-align: top;\n",
       "    }\n",
       "\n",
       "    .dataframe thead th {\n",
       "        text-align: right;\n",
       "    }\n",
       "</style>\n",
       "<table border=\"1\" class=\"dataframe\">\n",
       "  <thead>\n",
       "    <tr style=\"text-align: right;\">\n",
       "      <th></th>\n",
       "      <th>population</th>\n",
       "      <th>fertility</th>\n",
       "      <th>HIV</th>\n",
       "      <th>CO2</th>\n",
       "      <th>BMI_male</th>\n",
       "      <th>GDP</th>\n",
       "      <th>BMI_female</th>\n",
       "      <th>life</th>\n",
       "      <th>child_mortality</th>\n",
       "    </tr>\n",
       "  </thead>\n",
       "  <tbody>\n",
       "    <tr>\n",
       "      <th>population</th>\n",
       "      <td>1.000000</td>\n",
       "      <td>-0.061345</td>\n",
       "      <td>-0.065821</td>\n",
       "      <td>-0.010147</td>\n",
       "      <td>-0.134905</td>\n",
       "      <td>-0.045687</td>\n",
       "      <td>-0.135149</td>\n",
       "      <td>-0.005051</td>\n",
       "      <td>0.008058</td>\n",
       "    </tr>\n",
       "    <tr>\n",
       "      <th>fertility</th>\n",
       "      <td>-0.061345</td>\n",
       "      <td>1.000000</td>\n",
       "      <td>0.292695</td>\n",
       "      <td>-0.439747</td>\n",
       "      <td>-0.715380</td>\n",
       "      <td>-0.502615</td>\n",
       "      <td>0.527314</td>\n",
       "      <td>-0.786921</td>\n",
       "      <td>0.901704</td>\n",
       "    </tr>\n",
       "    <tr>\n",
       "      <th>HIV</th>\n",
       "      <td>-0.065821</td>\n",
       "      <td>0.292695</td>\n",
       "      <td>1.000000</td>\n",
       "      <td>-0.165889</td>\n",
       "      <td>-0.308700</td>\n",
       "      <td>-0.208410</td>\n",
       "      <td>0.396680</td>\n",
       "      <td>-0.604749</td>\n",
       "      <td>0.394913</td>\n",
       "    </tr>\n",
       "    <tr>\n",
       "      <th>CO2</th>\n",
       "      <td>-0.010147</td>\n",
       "      <td>-0.439747</td>\n",
       "      <td>-0.165889</td>\n",
       "      <td>1.000000</td>\n",
       "      <td>0.581031</td>\n",
       "      <td>0.823099</td>\n",
       "      <td>-0.280813</td>\n",
       "      <td>0.476666</td>\n",
       "      <td>-0.458186</td>\n",
       "    </tr>\n",
       "    <tr>\n",
       "      <th>BMI_male</th>\n",
       "      <td>-0.134905</td>\n",
       "      <td>-0.715380</td>\n",
       "      <td>-0.308700</td>\n",
       "      <td>0.581031</td>\n",
       "      <td>1.000000</td>\n",
       "      <td>0.625126</td>\n",
       "      <td>-0.447049</td>\n",
       "      <td>0.731559</td>\n",
       "      <td>-0.749691</td>\n",
       "    </tr>\n",
       "    <tr>\n",
       "      <th>GDP</th>\n",
       "      <td>-0.045687</td>\n",
       "      <td>-0.502615</td>\n",
       "      <td>-0.208410</td>\n",
       "      <td>0.823099</td>\n",
       "      <td>0.625126</td>\n",
       "      <td>1.000000</td>\n",
       "      <td>-0.400740</td>\n",
       "      <td>0.628999</td>\n",
       "      <td>-0.543874</td>\n",
       "    </tr>\n",
       "    <tr>\n",
       "      <th>BMI_female</th>\n",
       "      <td>-0.135149</td>\n",
       "      <td>0.527314</td>\n",
       "      <td>0.396680</td>\n",
       "      <td>-0.280813</td>\n",
       "      <td>-0.447049</td>\n",
       "      <td>-0.400740</td>\n",
       "      <td>1.000000</td>\n",
       "      <td>-0.658718</td>\n",
       "      <td>0.582053</td>\n",
       "    </tr>\n",
       "    <tr>\n",
       "      <th>life</th>\n",
       "      <td>-0.005051</td>\n",
       "      <td>-0.786921</td>\n",
       "      <td>-0.604749</td>\n",
       "      <td>0.476666</td>\n",
       "      <td>0.731559</td>\n",
       "      <td>0.628999</td>\n",
       "      <td>-0.658718</td>\n",
       "      <td>1.000000</td>\n",
       "      <td>-0.874106</td>\n",
       "    </tr>\n",
       "    <tr>\n",
       "      <th>child_mortality</th>\n",
       "      <td>0.008058</td>\n",
       "      <td>0.901704</td>\n",
       "      <td>0.394913</td>\n",
       "      <td>-0.458186</td>\n",
       "      <td>-0.749691</td>\n",
       "      <td>-0.543874</td>\n",
       "      <td>0.582053</td>\n",
       "      <td>-0.874106</td>\n",
       "      <td>1.000000</td>\n",
       "    </tr>\n",
       "  </tbody>\n",
       "</table>\n",
       "</div>"
      ],
      "text/plain": [
       "                 population  fertility       HIV       CO2  BMI_male  \\\n",
       "population         1.000000  -0.061345 -0.065821 -0.010147 -0.134905   \n",
       "fertility         -0.061345   1.000000  0.292695 -0.439747 -0.715380   \n",
       "HIV               -0.065821   0.292695  1.000000 -0.165889 -0.308700   \n",
       "CO2               -0.010147  -0.439747 -0.165889  1.000000  0.581031   \n",
       "BMI_male          -0.134905  -0.715380 -0.308700  0.581031  1.000000   \n",
       "GDP               -0.045687  -0.502615 -0.208410  0.823099  0.625126   \n",
       "BMI_female        -0.135149   0.527314  0.396680 -0.280813 -0.447049   \n",
       "life              -0.005051  -0.786921 -0.604749  0.476666  0.731559   \n",
       "child_mortality    0.008058   0.901704  0.394913 -0.458186 -0.749691   \n",
       "\n",
       "                      GDP  BMI_female      life  child_mortality  \n",
       "population      -0.045687   -0.135149 -0.005051         0.008058  \n",
       "fertility       -0.502615    0.527314 -0.786921         0.901704  \n",
       "HIV             -0.208410    0.396680 -0.604749         0.394913  \n",
       "CO2              0.823099   -0.280813  0.476666        -0.458186  \n",
       "BMI_male         0.625126   -0.447049  0.731559        -0.749691  \n",
       "GDP              1.000000   -0.400740  0.628999        -0.543874  \n",
       "BMI_female      -0.400740    1.000000 -0.658718         0.582053  \n",
       "life             0.628999   -0.658718  1.000000        -0.874106  \n",
       "child_mortality -0.543874    0.582053 -0.874106         1.000000  "
      ]
     },
     "execution_count": 3,
     "metadata": {},
     "output_type": "execute_result"
    }
   ],
   "source": [
    "data.corr()"
   ]
  },
  {
   "cell_type": "code",
   "execution_count": null,
   "metadata": {},
   "outputs": [],
   "source": [
    "import seaborn as sns\n",
    "sns.pairplot(data)"
   ]
  },
  {
   "cell_type": "code",
   "execution_count": 34,
   "metadata": {},
   "outputs": [
    {
     "data": {
      "text/plain": [
       "<matplotlib.axes._subplots.AxesSubplot at 0x158e7028748>"
      ]
     },
     "execution_count": 34,
     "metadata": {},
     "output_type": "execute_result"
    },
    {
     "data": {
      "image/png": "[encoded data removed]",
      "text/plain": [
       "<Figure size 432x288 with 2 Axes>"
      ]
     },
     "metadata": {
      "needs_background": "light"
     },
     "output_type": "display_data"
    }
   ],
   "source": [
    "sns.heatmap(data.corr())\n"
   ]
  },
  {
   "cell_type": "code",
   "execution_count": 31,
   "metadata": {},
   "outputs": [
    {
     "name": "stdout",
     "output_type": "stream",
     "text": [
      "Dimensions of y before reshaping: (139,)\n",
      "Dimensions of X before reshaping: (139,)\n"
     ]
    }
   ],
   "source": [
    "y = data['life'].values\n",
    "\n",
    "X = data['fertility'].values\n",
    "\n",
    "\n",
    "\n",
    "# Print the dimensions of X and y before reshaping\n",
    "print(\"Dimensions of y before reshaping: {}\".format(y.shape))\n",
    "print(\"Dimensions of X before reshaping: {}\".format(X.shape))\n",
    "\n",
    "y = y.reshape(-1,1)\n",
    "X = X.reshape(-1,1)\n",
    "\n",
    "\n"
   ]
  },
  {
   "cell_type": "code",
   "execution_count": 32,
   "metadata": {},
   "outputs": [
    {
     "name": "stdout",
     "output_type": "stream",
     "text": [
      "0.6192442167740035\n"
     ]
    },
    {
     "data": {
      "image/png": "[encoded data removed]",
      "text/plain": [
       "<Figure size 432x288 with 1 Axes>"
      ]
     },
     "metadata": {
      "needs_background": "light"
     },
     "output_type": "display_data"
    }
   ],
   "source": [
    "from sklearn.linear_model import LinearRegression \n",
    "reg =LinearRegression()\n",
    "prediction_space = np.linspace(min(X), max(X)).reshape(-1,1)\n",
    "reg.fit(X,y)\n",
    "y_pred = reg.predict(prediction_space)\n",
    "print(reg.score(X,y))\n",
    "plt.plot(prediction_space, y_pred, color='black', linewidth=3)\n",
    "plt.scatter(X,y)\n",
    "plt.show()"
   ]
  },
  {
   "cell_type": "code",
   "execution_count": 33,
   "metadata": {},
   "outputs": [
    {
     "name": "stdout",
     "output_type": "stream",
     "text": [
      "Root Mean Squared Error: 4.194027914110243\n"
     ]
    }
   ],
   "source": [
    "\n",
    "from sklearn.metrics import mean_squared_error\n",
    "from sklearn.model_selection import train_test_split\n",
    "\n",
    "X_train, X_test, y_train, y_test = train_test_split(X, y, test_size = 0.3, random_state=42)\n",
    "reg_all = LinearRegression()\n",
    "\n",
    "reg_all.fit(X_train,y_train)\n",
    "y_pred = reg_all.predict(X_test)\n",
    "\n",
    "rmse = np.sqrt(mean_squared_error(y_pred, y_test))\n",
    "print(\"Root Mean Squared Error: {}\".format(rmse))\n"
   ]
  },
  {
   "cell_type": "code",
   "execution_count": 40,
   "metadata": {},
   "outputs": [
    {
     "name": "stdout",
     "output_type": "stream",
     "text": [
      "Root Mean Squared Error: 3.9325500386605943\n"
     ]
    },
    {
     "data": {
      "image/png": "[encoded data removed]",
      "text/plain": [
       "<Figure size 432x288 with 1 Axes>"
      ]
     },
     "metadata": {
      "needs_background": "light"
     },
     "output_type": "display_data"
    }
   ],
   "source": [
    "X=data[[\"HIV\",\"fertility\",\"BMI_male\",\"GDP\",\"BMI_female\"]]\n",
    "\n",
    "X_train, X_test, y_train, y_test = train_test_split(X, y, test_size = 0.3, random_state=42)\n",
    "reg_all = LinearRegression()\n",
    "\n",
    "reg_all.fit(X_train,y_train)\n",
    "y_pred = reg_all.predict(X_test)\n",
    "\n",
    "rmse = np.sqrt(mean_squared_error(y_pred, y_test))\n",
    "print(\"Root Mean Squared Error: {}\".format(rmse))\n",
    "plt.scatter( y_test,y_pred, color='black', linewidth=1)\n",
    "\n",
    "\n",
    "plt.show()\n"
   ]
  },
  {
   "cell_type": "code",
   "execution_count": 41,
   "metadata": {},
   "outputs": [
    {
     "name": "stdout",
     "output_type": "stream",
     "text": [
      "[[-8.34396801e-01 -1.92076078e+00  7.71846295e-01  1.23296269e-04\n",
      "  -3.42808552e-01]]\n",
      "[99.14889518]\n"
     ]
    }
   ],
   "source": [
    "print(reg_all.coef_)\n",
    "print(reg_all.intercept_)"
   ]
  },
  {
   "cell_type": "code",
   "execution_count": 46,
   "metadata": {},
   "outputs": [
    {
     "name": "stdout",
     "output_type": "stream",
     "text": [
      "[0.79306072 0.82431596 0.87669344 0.71586864 0.8906018 ]\n",
      "Average 5-Fold CV Score: 0.8201081094520166\n"
     ]
    }
   ],
   "source": [
    "from sklearn.model_selection import cross_val_score\n",
    "cv_scores = cross_val_score(reg_all,X,y,cv=5)\n",
    "print(cv_scores)\n",
    "print(\"Average 5-Fold CV Score: {}\".format(np.mean(cv_scores)))"
   ]
  },
  {
   "cell_type": "code",
   "execution_count": null,
   "metadata": {},
   "outputs": [],
   "source": []
  }
 ],
 "metadata": {
  "kernelspec": {
   "display_name": "Python 3",
   "language": "python",
   "name": "python3"
  },
  "language_info": {
   "codemirror_mode": {
    "name": "ipython",
    "version": 3
   },
   "file_extension": ".py",
   "mimetype": "text/x-python",
   "name": "python",
   "nbconvert_exporter": "python",
   "pygments_lexer": "ipython3",
   "version": "3.7.4"
  }
 },
 "nbformat": 4,
 "nbformat_minor": 2
}
